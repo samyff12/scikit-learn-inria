{
 "cells": [
  {
   "cell_type": "code",
   "execution_count": 1,
   "id": "272babe4-4bb8-42b0-9e46-e55d94ac23ab",
   "metadata": {},
   "outputs": [],
   "source": [
    "import pandas as pd\n",
    "ames_housing = pd.read_csv(\"../../../datasets/ames_housing_no_missing.csv\")\n",
    "\n",
    "target_name = \"SalePrice\"\n",
    "data, target = ames_housing.drop(columns=target_name), ames_housing[target_name]\n",
    "target = (target > 200_000).astype(int)"
   ]
  },
  {
   "cell_type": "code",
   "execution_count": 4,
   "id": "c0c7e09b-1ec5-4247-a2dd-329ae5ba6892",
   "metadata": {},
   "outputs": [
    {
     "data": {
      "text/plain": [
       "object     43\n",
       "int64      33\n",
       "float64     3\n",
       "dtype: int64"
      ]
     },
     "execution_count": 4,
     "metadata": {},
     "output_type": "execute_result"
    }
   ],
   "source": [
    "data.dtypes.value_counts()"
   ]
  },
  {
   "cell_type": "code",
   "execution_count": 47,
   "id": "fd8cdd5c-ab20-4874-bd2b-a4adb9d4f173",
   "metadata": {},
   "outputs": [],
   "source": [
    "numerical_features = [\n",
    "  \"LotFrontage\", \"LotArea\", \"MasVnrArea\", \"BsmtFinSF1\", \"BsmtFinSF2\",\n",
    "  \"BsmtUnfSF\", \"TotalBsmtSF\", \"1stFlrSF\", \"2ndFlrSF\", \"LowQualFinSF\",\n",
    "  \"GrLivArea\", \"BedroomAbvGr\", \"KitchenAbvGr\", \"TotRmsAbvGrd\", \"Fireplaces\",\n",
    "  \"GarageCars\", \"GarageArea\", \"WoodDeckSF\", \"OpenPorchSF\", \"EnclosedPorch\",\n",
    "  \"3SsnPorch\", \"ScreenPorch\", \"PoolArea\", \"MiscVal\",\n",
    "]"
   ]
  },
  {
   "cell_type": "code",
   "execution_count": 48,
   "id": "6e1f4482-67d9-4f6a-b3c4-18a14dd45b7a",
   "metadata": {},
   "outputs": [
    {
     "name": "stdout",
     "output_type": "stream",
     "text": [
      "The mean cross-validation accuracy is: 0.892 ± 0.013 with a fitting time of 0.142\n"
     ]
    }
   ],
   "source": [
    "from sklearn.compose import ColumnTransformer\n",
    "from sklearn.preprocessing import StandardScaler\n",
    "from sklearn.pipeline import make_pipeline\n",
    "from sklearn.linear_model import LogisticRegression\n",
    "from sklearn.model_selection import cross_validate\n",
    "import time\n",
    "\n",
    "preprocessor = ColumnTransformer([\n",
    "    ('numerical', StandardScaler(), numerical_features)])\n",
    "\n",
    "model = make_pipeline(preprocessor, LogisticRegression())\n",
    "\n",
    "start = time.time()\n",
    "cv_results = cross_validate(model, data, target, cv=10)\n",
    "elapsed_time = time.time() - start\n",
    "\n",
    "scores = cv_results[\"test_score\"]\n",
    "\n",
    "print(\"The mean cross-validation accuracy is: \"\n",
    "      f\"{scores.mean():.3f} ± {scores.std():.3f} \"\n",
    "      f\"with a fitting time of {elapsed_time:.3f}\")"
   ]
  },
  {
   "cell_type": "code",
   "execution_count": 52,
   "id": "092bddf2-a0c6-4477-8ad2-cd3e79ce0a80",
   "metadata": {},
   "outputs": [
    {
     "name": "stdout",
     "output_type": "stream",
     "text": [
      "The mean cross-validation accuracy is: 0.892 ± 0.013 with a fitting time of 1.005\n",
      "The model using all features is performing better 7 times out of 10 than the model using only numerical features.\n"
     ]
    }
   ],
   "source": [
    "# With categorical columns\n",
    "from sklearn.preprocessing import OneHotEncoder\n",
    "\n",
    "preprocessor = ColumnTransformer([\n",
    "    ('numerical', StandardScaler(), numerical_features), ('categorical', OneHotEncoder(handle_unknown='ignore'), data.select_dtypes(object).columns)])\n",
    "\n",
    "model = make_pipeline(preprocessor, LogisticRegression(max_iter=500))\n",
    "\n",
    "start = time.time()\n",
    "cv_results = cross_validate(model, data, target, cv=10)\n",
    "elapsed_time = time.time() - start\n",
    "\n",
    "scores1 = cv_results[\"test_score\"]\n",
    "\n",
    "print(\"The mean cross-validation accuracy is: \"\n",
    "      f\"{scores.mean():.3f} ± {scores.std():.3f} \"\n",
    "      f\"with a fitting time of {elapsed_time:.3f}\")\n",
    "print(\"The model using all features is performing better \"\n",
    "    f\"{sum(scores < scores1)} \"\n",
    "  \"times out of 10 than the model using only numerical features.\")"
   ]
  },
  {
   "cell_type": "code",
   "execution_count": null,
   "id": "37b3552e-4964-44b9-b608-1d0256788448",
   "metadata": {},
   "outputs": [],
   "source": []
  }
 ],
 "metadata": {
  "kernelspec": {
   "display_name": "Python 3 (ipykernel)",
   "language": "python",
   "name": "python3"
  },
  "language_info": {
   "codemirror_mode": {
    "name": "ipython",
    "version": 3
   },
   "file_extension": ".py",
   "mimetype": "text/x-python",
   "name": "python",
   "nbconvert_exporter": "python",
   "pygments_lexer": "ipython3",
   "version": "3.8.8"
  }
 },
 "nbformat": 4,
 "nbformat_minor": 5
}
