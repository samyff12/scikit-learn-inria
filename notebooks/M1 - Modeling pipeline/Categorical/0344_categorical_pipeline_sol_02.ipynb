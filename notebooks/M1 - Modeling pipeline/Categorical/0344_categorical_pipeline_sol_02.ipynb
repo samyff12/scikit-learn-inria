{
 "cells": [
  {
   "cell_type": "markdown",
   "id": "2b8d5f7d",
   "metadata": {},
   "source": [
    "# 📃 Solution for Exercise M1.05\n",
    "\n",
    "The goal of this exercise is to evaluate the impact of feature preprocessing\n",
    "on a pipeline that uses a decision-tree-based classifier instead of a logistic\n",
    "regression.\n",
    "\n",
    "- The first question is to empirically evaluate whether scaling numerical\n",
    "  features is helpful or not;\n",
    "- The second question is to evaluate whether it is empirically better (both\n",
    "  from a computational and a statistical perspective) to use integer coded or\n",
    "  one-hot encoded categories."
   ]
  },
  {
   "cell_type": "code",
   "execution_count": 3,
   "id": "ee694628",
   "metadata": {},
   "outputs": [],
   "source": [
    "import pandas as pd\n",
    "\n",
    "adult_census = pd.read_csv(\"../../../datasets/adult-census.csv\")"
   ]
  },
  {
   "cell_type": "code",
   "execution_count": 4,
   "id": "b83b4176",
   "metadata": {},
   "outputs": [],
   "source": [
    "target_name = \"class\"\n",
    "target = adult_census[target_name]\n",
    "data = adult_census.drop(columns=[target_name, \"education-num\"])"
   ]
  },
  {
   "cell_type": "markdown",
   "id": "e6c6c5f3",
   "metadata": {},
   "source": [
    "As in the previous notebooks, we use the utility `make_column_selector`\n",
    "to select only columns with a specific data type. Besides, we list in\n",
    "advance all categories for the categorical columns."
   ]
  },
  {
   "cell_type": "code",
   "execution_count": 5,
   "id": "13c2536a",
   "metadata": {},
   "outputs": [],
   "source": [
    "from sklearn.compose import make_column_selector as selector\n",
    "\n",
    "numerical_columns_selector = selector(dtype_exclude=object)\n",
    "categorical_columns_selector = selector(dtype_include=object)\n",
    "numerical_columns = numerical_columns_selector(data)\n",
    "categorical_columns = categorical_columns_selector(data)"
   ]
  },
  {
   "cell_type": "markdown",
   "id": "3ad702cc",
   "metadata": {},
   "source": [
    "## Reference pipeline (no numerical scaling and integer-coded categories)\n",
    "\n",
    "First let's time the pipeline we used in the main notebook to serve as a\n",
    "reference:"
   ]
  },
  {
   "cell_type": "code",
   "execution_count": 9,
   "id": "e535b35a",
   "metadata": {},
   "outputs": [
    {
     "name": "stdout",
     "output_type": "stream",
     "text": [
      "The mean cross-validation accuracy is: 0.873 ± 0.003 with a fitting time of 7.791\n"
     ]
    }
   ],
   "source": [
    "import time\n",
    "\n",
    "from sklearn.model_selection import cross_validate\n",
    "from sklearn.pipeline import make_pipeline\n",
    "from sklearn.compose import ColumnTransformer\n",
    "from sklearn.preprocessing import OrdinalEncoder\n",
    "from sklearn.experimental import enable_hist_gradient_boosting\n",
    "from sklearn.ensemble import HistGradientBoostingClassifier\n",
    "\n",
    "categorical_preprocessor = OrdinalEncoder(handle_unknown=\"use_encoded_value\",\n",
    "                                          unknown_value=-1)\n",
    "preprocessor = ColumnTransformer([\n",
    "    ('categorical', categorical_preprocessor, categorical_columns)],\n",
    "    remainder=\"passthrough\")\n",
    "\n",
    "model = make_pipeline(preprocessor, HistGradientBoostingClassifier())\n",
    "\n",
    "start = time.time()\n",
    "cv_results = cross_validate(model, data, target)\n",
    "elapsed_time = time.time() - start\n",
    "\n",
    "scores = cv_results[\"test_score\"]\n",
    "\n",
    "print(\"The mean cross-validation accuracy is: \"\n",
    "      f\"{scores.mean():.3f} ± {scores.std():.3f} \"\n",
    "      f\"with a fitting time of {elapsed_time:.3f}\")"
   ]
  },
  {
   "cell_type": "markdown",
   "id": "f1bf28d1",
   "metadata": {},
   "source": [
    "## Scaling numerical features\n",
    "\n",
    "Let's write a similar pipeline that also scales the numerical features using\n",
    "`StandardScaler` (or similar):"
   ]
  },
  {
   "cell_type": "code",
   "execution_count": 10,
   "id": "e932c705",
   "metadata": {},
   "outputs": [
    {
     "name": "stdout",
     "output_type": "stream",
     "text": [
      "The mean cross-validation accuracy is: 0.873 ± 0.002 with a fitting time of 5.674\n"
     ]
    }
   ],
   "source": [
    "# solution\n",
    "import time\n",
    "\n",
    "from sklearn.preprocessing import StandardScaler\n",
    "\n",
    "preprocessor = ColumnTransformer([\n",
    "    ('numerical', StandardScaler(), numerical_columns),\n",
    "    ('categorical', OrdinalEncoder(handle_unknown=\"use_encoded_value\",\n",
    "                                   unknown_value=-1),\n",
    "     categorical_columns)])\n",
    "\n",
    "model = make_pipeline(preprocessor, HistGradientBoostingClassifier())\n",
    "\n",
    "start = time.time()\n",
    "cv_results = cross_validate(model, data, target)\n",
    "elapsed_time = time.time() - start\n",
    "\n",
    "scores = cv_results[\"test_score\"]\n",
    "\n",
    "print(\"The mean cross-validation accuracy is: \"\n",
    "      f\"{scores.mean():.3f} ± {scores.std():.3f} \"\n",
    "      f\"with a fitting time of {elapsed_time:.3f}\")"
   ]
  },
  {
   "cell_type": "markdown",
   "id": "5a29706d",
   "metadata": {
    "tags": [
     "solution"
    ]
   },
   "source": [
    "### Analysis\n",
    "\n",
    "We can observe that both the accuracy and the training time are approximately\n",
    "the same as the reference pipeline (any time difference you might observe is\n",
    "not significant).\n",
    "\n",
    "Scaling numerical features is indeed useless for most decision tree models in\n",
    "general and for `HistGradientBoostingClassifier` in particular."
   ]
  },
  {
   "cell_type": "markdown",
   "id": "3c536d58",
   "metadata": {},
   "source": [
    "## One-hot encoding of categorical variables\n",
    "\n",
    "We observed that integer coding of categorical variables can be very\n",
    "detrimental for linear models. However, it does not seem to be the case for\n",
    "`HistGradientBoostingClassifier` models, as the cross-validation score\n",
    "of the reference pipeline with `OrdinalEncoder` is reasonably good.\n",
    "\n",
    "Let's see if we can get an even better accuracy with `OneHotEncoder`.\n",
    "\n",
    "Hint: `HistGradientBoostingClassifier` does not yet support sparse input\n",
    "data. You might want to use\n",
    "`OneHotEncoder(handle_unknown=\"ignore\", sparse=False)` to force the use of a\n",
    "dense representation as a workaround."
   ]
  },
  {
   "cell_type": "code",
   "execution_count": 11,
   "id": "9af2d649",
   "metadata": {},
   "outputs": [
    {
     "name": "stdout",
     "output_type": "stream",
     "text": [
      "The mean cross-validation accuracy is: 0.873 ± 0.002 with a fitting time of 14.601\n"
     ]
    }
   ],
   "source": [
    "# solution\n",
    "import time\n",
    "\n",
    "from sklearn.preprocessing import OneHotEncoder\n",
    "\n",
    "categorical_preprocessor = OneHotEncoder(handle_unknown=\"ignore\", sparse=False)\n",
    "preprocessor = ColumnTransformer([\n",
    "    ('one-hot-encoder', categorical_preprocessor, categorical_columns)],\n",
    "    remainder=\"passthrough\")\n",
    "\n",
    "model = make_pipeline(preprocessor, HistGradientBoostingClassifier())\n",
    "\n",
    "start = time.time()\n",
    "cv_results = cross_validate(model, data, target)\n",
    "elapsed_time = time.time() - start\n",
    "\n",
    "scores = cv_results[\"test_score\"]\n",
    "\n",
    "print(\"The mean cross-validation accuracy is: \"\n",
    "      f\"{scores.mean():.3f} ± {scores.std():.3f} \"\n",
    "      f\"with a fitting time of {elapsed_time:.3f}\")"
   ]
  },
  {
   "cell_type": "markdown",
   "id": "6ad1f05f",
   "metadata": {
    "tags": [
     "solution"
    ]
   },
   "source": [
    "### Analysis\n",
    "\n",
    "From an accuracy point of view, the result is almost exactly the same.\n",
    "The reason is that `HistGradientBoostingClassifier` is expressive\n",
    "and robust enough to deal with misleading ordering of integer coded\n",
    "categories (which was not the case for linear models).\n",
    "\n",
    "However from a computation point of view, the training time is\n",
    "much longer: this is caused by the fact that `OneHotEncoder`\n",
    "generates approximately 10 times more features than `OrdinalEncoder`.\n",
    "\n",
    "Note that the current implementation `HistGradientBoostingClassifier`\n",
    "is still incomplete, and once sparse representation are handled\n",
    "correctly, training time might improve with such kinds of encodings.\n",
    "\n",
    "The main take away message is that arbitrary integer coding of\n",
    "categories is perfectly fine for `HistGradientBoostingClassifier`\n",
    "and yields fast training times."
   ]
  },
  {
   "cell_type": "markdown",
   "id": "9f3f8b2a",
   "metadata": {
    "tags": [
     "solution"
    ]
   },
   "source": [
    "<div class=\"admonition important alert alert-info\">\n",
    "<p class=\"first admonition-title\" style=\"font-weight: bold;\">Important</p>\n",
    "<p>Which encoder should I use?</p>\n",
    "<table border=\"1\" class=\"docutils\">\n",
    "<thead valign=\"bottom\">\n",
    "<tr><th class=\"head\"></th>\n",
    "<th class=\"head\">Meaningful order</th>\n",
    "<th class=\"head\">Non-meaningful order</th>\n",
    "</tr>\n",
    "</thead>\n",
    "<tbody valign=\"top\">\n",
    "<tr><td>Tree-based model</td>\n",
    "<td><tt class=\"docutils literal\">OrdinalEncoder</tt></td>\n",
    "<td><tt class=\"docutils literal\">OrdinalEncoder</tt></td>\n",
    "</tr>\n",
    "<tr><td>Linear model</td>\n",
    "<td><tt class=\"docutils literal\">OrdinalEncoder</tt> with caution</td>\n",
    "<td><tt class=\"docutils literal\">OneHotEncoder</tt></td>\n",
    "</tr>\n",
    "</tbody>\n",
    "</table>\n",
    "<ul class=\"last simple\">\n",
    "<li><tt class=\"docutils literal\">OneHotEncoder</tt>: will always do something meaningful, but can be\n",
    "unnecessary slow with trees.</li>\n",
    "<li><tt class=\"docutils literal\">OrdinalEncoder</tt>: can be detrimental for linear models unless your category\n",
    "has a meaningful order and you make sure that <tt class=\"docutils literal\">OrdinalEncoder</tt> respects this\n",
    "order. Trees can deal with <tt class=\"docutils literal\">OrdinalEncoder</tt> fine as long as they are deep\n",
    "enough.</li>\n",
    "</ul>\n",
    "</div>"
   ]
  }
 ],
 "metadata": {
  "jupytext": {
   "main_language": "python"
  },
  "kernelspec": {
   "display_name": "Python 3 (ipykernel)",
   "language": "python",
   "name": "python3"
  },
  "language_info": {
   "codemirror_mode": {
    "name": "ipython",
    "version": 3
   },
   "file_extension": ".py",
   "mimetype": "text/x-python",
   "name": "python",
   "nbconvert_exporter": "python",
   "pygments_lexer": "ipython3",
   "version": "3.8.8"
  }
 },
 "nbformat": 4,
 "nbformat_minor": 5
}
